{
    "metadata": {
        "kernelspec": {
            "name": "SQL",
            "display_name": "SQL",
            "language": "sql"
        },
        "language_info": {
            "name": "sql",
            "version": ""
        }
    },
    "nbformat_minor": 2,
    "nbformat": 4,
    "cells": [
        {
            "cell_type": "markdown",
            "source": "<img src=\"https://github.com/Microsoft/sqlworkshops/blob/master/graphics/solutions-microsoft-logo-small.png?raw=true\" alt=\"Microsoft\">\r\n<br>\r\n\r\n# Workshop: Microsoft SQL Server Machine Learning Services\r\n\r\n#### <i>A Microsoft Course from the SQL Server team</i>\r\n\r\n## 01 - SQL Server Machine Learning Services Architecture\r\n\r\n<p style=\"border-bottom: 1px solid lightgrey;\"></p>\r\n",
            "metadata": {}
        },
        {
            "cell_type": "markdown",
            "source": "Components Involved in ML Services:\r\n\r\n<img src=\"https://docs.microsoft.com/en-us/sql/advanced-analytics/media/generic-architecture.png?view=sql-server-2017\">\r\n",
            "metadata": {}
        },
        {
            "cell_type": "markdown",
            "source": "Services and Configuration",
            "metadata": {}
        },
        {
            "cell_type": "code",
            "source": "/* Enable ML Services\r\nNOTE: \r\nYou must have SQL Server ML Services Installed,\r\nThe SQL server Launchpad Service must be running, \r\nand you may need to restart the SQL Server Service if the scripts below do not work. \r\nMore detailed information here: https://docs.microsoft.com/en-us/sql/advanced-analytics/install/sql-machine-learning-services-windows-install?view=sql-server-ver15 \r\n*/\r\n\r\nEXEC sp_configure  'external scripts enabled', 1\r\nRECONFIGURE WITH OVERRIDE",
            "metadata": {},
            "outputs": [],
            "execution_count": 0
        },
        {
            "cell_type": "code",
            "source": "/* Test R */\r\nEXEC sp_execute_external_script  @language =N'R',\r\n@script=N'\r\nOutputDataSet <- InputDataSet;\r\n',\r\n@input_data_1 =N'SELECT 1 AS [Is R Working]'\r\nWITH RESULT SETS (([Is R Working] int not null));\r\nGO",
            "metadata": {},
            "outputs": [],
            "execution_count": 0
        },
        {
            "cell_type": "code",
            "source": "/* Test Python */\r\nEXEC sp_execute_external_script  @language =N'Python',\r\n@script=N'\r\nOutputDataSet = InputDataSet;\r\n',\r\n@input_data_1 =N'SELECT 1 AS [Is Python Working]'\r\nWITH RESULT SETS (([Is Python Working] int not null));\r\nGO",
            "metadata": {},
            "outputs": [],
            "execution_count": 0
        },
        {
            "cell_type": "code",
            "source": "/* Get R Info */\r\nEXECUTE sp_execute_external_script @language = N'R'\r\n, @script = N'\r\nOutputDataSet <- data.frame(installed.packages()[,c(\"Package\", \"Version\", \"Depends\", \"License\", \"LibPath\")]);'\r\nWITH RESULT SETS(\r\n    (Package NVARCHAR(255)\r\n    , Version NVARCHAR(100)\r\n    , Depends NVARCHAR(4000)\r\n    , License NVARCHAR(1000)\r\n    , LibPath NVARCHAR(2000))\r\n    );\r\nGO",
            "metadata": {},
            "outputs": [],
            "execution_count": 0
        },
        {
            "cell_type": "code",
            "source": "/* Get Python Info */\r\nEXECUTE sp_execute_external_script\r\n@language =N'Python',\r\n@script=N'import sys\r\nprint(sys.version)';\r\nGO\r\n\r\nEXECUTE sp_execute_external_script \r\n  @language = N'Python', \r\n  @script = N'import pip\r\nimport pandas as pd\r\ninstalled_packages = pip.get_installed_distributions()\r\ninstalled_packages_list = sorted([\"%s==%s\" % (i.key, i.version)\r\n   for i in installed_packages])\r\ndf = pd.DataFrame(installed_packages_list)\r\nOutputDataSet = df'\r\nWITH RESULT SETS (( InstalledPackageAndVersion nvarchar (150) ))",
            "metadata": {},
            "outputs": [],
            "execution_count": 0
        },
        {
            "cell_type": "code",
            "source": "/* Get Database */",
            "metadata": {},
            "outputs": [],
            "execution_count": 0
        },
        {
            "cell_type": "code",
            "source": "/* Install Database */",
            "metadata": {},
            "outputs": [],
            "execution_count": 0
        },
        {
            "cell_type": "markdown",
            "source": "Graphic and For Further Info",
            "metadata": {}
        },
        {
            "cell_type": "markdown",
            "source": "Next Steps",
            "metadata": {}
        }
    ]
}