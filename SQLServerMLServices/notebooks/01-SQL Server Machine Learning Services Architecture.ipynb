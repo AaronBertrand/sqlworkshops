{
    "metadata": {
        "kernelspec": {
            "name": "SQL",
            "display_name": "SQL",
            "language": "sql"
        },
        "language_info": {
            "name": "sql",
            "version": ""
        }
    },
    "nbformat_minor": 2,
    "nbformat": 4,
    "cells": [
        {
            "cell_type": "markdown",
            "source": "<img src=\"https://github.com/Microsoft/sqlworkshops/blob/master/graphics/solutions-microsoft-logo-small.png?raw=true\" alt=\"Microsoft\">\r\n<br>\r\n\r\n# Workshop: Microsoft SQL Server Machine Learning Services\r\n\r\n#### <i>A Microsoft Course from the SQL Server team</i>\r\n\r\n## SQL Server Machine Learning Services Architecture\r\n\r\n<p style=\"border-bottom: 1px solid lightgrey;\"></p>\r\n",
            "metadata": {}
        },
        {
            "cell_type": "markdown",
            "source": "<h2><img style=\"float: left; margin: 0px 15px 15px 0px;\" src=\"https://github.com/Microsoft/sqlworkshops/blob/master/graphics/textbubble.png?raw=true\">Understanding the SQL Server ML Services Architecture</h2>\r\n\r\nSQL Server 2016 introduced the R language as a companion server alongside the SQL Server Instance - called a *satellite*. SQL Server 2017 introduced Python language support, in the same fashion and usage as R. In SQL Server 2019, Java was added as an additional satellite process.\r\n",
            "metadata": {}
        },
        {
            "cell_type": "markdown",
            "source": "<h2><img style=\"float: left; margin: 0px 15px 15px 0px;\" src=\"https://github.com/Microsoft/sqlworkshops/blob/master/graphics/pin.jpg?raw=true\">The SQL Server Exensibility Framework</h2>\r\n\r\nIf selected, the Installer program for SQL Server installs the Microsoft ML Server-supported language runtime environments *alongside* the SQL Server Instance, and then sets up a Service (called *SQL Launchpad*) allowing the sandboxed processes to communicate over a secure channel. It also sets up several other components to allow the *scoring*, and in some cases the *training*, of Machine Learning models using Python or R. \r\n\r\n<img src=\"https://docs.microsoft.com/en-us/sql/advanced-analytics/media/generic-architecture.png?view=sql-server-2017\">\r\n\r\nWhen the R or Python language is called via a special Stored Procedure (which you must enable) SQL Server transfers data to the R or Python process which runs the code, and returns the result to the Stored Procedure in SQL Server.\r\n\r\n<p>\r\n<img src=\"https://github.com/Microsoft/sqlworkshops/blob/master/graphics/TSQLAndR.png?raw=true\" width=\"500\">\r\n<p>\r\n\r\nYou can run code to execute in Python as well as R. You can use either language by simply setting a parameter in the Stored Procedure.\r\n\r\nThis allows SQL Server professionals to work with and hybrid data in the way they are familiar with, and the Data Scientist to develop their R or Python code anywhere, and then deploying that code to SQL Server by embedding it in a Stored Procedure.",
            "metadata": {}
        },
        {
            "cell_type": "markdown",
            "source": "<p><img style=\"float: left; margin: 0px 15px 15px 0px;\" src=\"https://github.com/Microsoft/sqlworkshops/blob/master/graphics/checkbox.png?raw=true\"><b>Activity: Enable external script execution in SQL Server</b></p>\n\nThe following code enables the external processes shown above to run on a SQL Server Instance:",
            "metadata": {}
        },
        {
            "cell_type": "code",
            "source": "/* Enable ML Services\r\nNOTE: \r\nYou must have SQL Server ML Services Installed,\r\nThe SQL server Launchpad Service must be running, \r\nand you may need to restart the SQL Server Service if the scripts below do not work. \r\nMore detailed information here: https://docs.microsoft.com/en-us/sql/advanced-analytics/install/sql-machine-learning-services-windows-install?view=sql-server-ver15 \r\n*/\r\n\r\nEXEC sp_configure  'external scripts enabled', 1\r\nRECONFIGURE WITH OVERRIDE",
            "metadata": {},
            "outputs": [],
            "execution_count": 0
        },
        {
            "cell_type": "code",
            "source": "/* Test R */\r\nEXEC sp_execute_external_script  @language =N'R',\r\n@script=N'\r\nOutputDataSet <- InputDataSet;\r\n',\r\n@input_data_1 =N'SELECT 1 AS [Is R Working]'\r\nWITH RESULT SETS (([Is R Working] int not null));\r\nGO",
            "metadata": {},
            "outputs": [],
            "execution_count": 0
        },
        {
            "cell_type": "code",
            "source": "/* Test Python */\r\nEXEC sp_execute_external_script  @language =N'Python',\r\n@script=N'\r\nOutputDataSet = InputDataSet;\r\n',\r\n@input_data_1 =N'SELECT 1 AS [Is Python Working]'\r\nWITH RESULT SETS (([Is Python Working] int not null));\r\nGO",
            "metadata": {},
            "outputs": [],
            "execution_count": 0
        },
        {
            "cell_type": "code",
            "source": "/* Get R Info */\r\nEXECUTE sp_execute_external_script @language = N'R'\r\n, @script = N'\r\nOutputDataSet <- data.frame(installed.packages()[,c(\"Package\", \"Version\", \"Depends\", \"License\", \"LibPath\")]);'\r\nWITH RESULT SETS(\r\n    (Package NVARCHAR(255)\r\n    , Version NVARCHAR(100)\r\n    , Depends NVARCHAR(4000)\r\n    , License NVARCHAR(1000)\r\n    , LibPath NVARCHAR(2000))\r\n    );\r\nGO",
            "metadata": {},
            "outputs": [],
            "execution_count": 0
        },
        {
            "cell_type": "code",
            "source": "/* Get Python Info */\r\nEXECUTE sp_execute_external_script\r\n@language =N'Python',\r\n@script=N'import sys\r\nprint(sys.version)';\r\nGO\r\n\r\nEXECUTE sp_execute_external_script \r\n  @language = N'Python', \r\n  @script = N'import pip\r\nimport pandas as pd\r\ninstalled_packages = pip.get_installed_distributions()\r\ninstalled_packages_list = sorted([\"%s==%s\" % (i.key, i.version)\r\n   for i in installed_packages])\r\ndf = pd.DataFrame(installed_packages_list)\r\nOutputDataSet = df'\r\nWITH RESULT SETS (( InstalledPackageAndVersion nvarchar (150) ))",
            "metadata": {},
            "outputs": [],
            "execution_count": 0
        },
        {
            "cell_type": "markdown",
            "source": "<h2><img style=\"float: left; margin: 0px 15px 15px 0px;\" src=\"https://github.com/Microsoft/sqlworkshops/blob/master/graphics/pin.jpg?raw=true\">1.2 Programming SQL Server Machine Learning Services</h2>\r\n\r\nYou have two methods of working with Machine Learning Services in SQL Server:\r\n\r\n1. You can create your R or Python code on a workstation with the Microsoft R or Python Libraries installed, which run certain operations on the SQL Server Instance remotely.\r\n2. You can \"wrap\" the R or Python code in a Stored Procedure server-side, and run standard Transact-SQL statements to call for the scoring.\r\n\r\nYou can use three methods of running the Models you create in Machine Learning Services:\r\n\r\n1. Using the Extensibility Framework, you can create trained Machine Learning Models, and store them as a binary object in a SQL Server table. You can then \"score\" (do the predictions or classifications) in SQL Server by loading the binary model and using it in Python or R code wrapped in a Stored Procedure.\r\n2. Using the Native Scoring feature of the `PREDICT` Transact-SQL statement against a trained Machine Learning Model. The model that you use must have been created using one of the supported algorithms from the RevoScaleR package. \r\n3. Using the `sp_rxPredict` stored procedure provided as a wrapper for the `rxPredict` R function in RevoScaleR and MicrosoftML, and the `rx_predict` Python function in revoscalepy and microsoftml. It is written in C++ and is optimized specifically for scoring operations.\r\n ",
            "metadata": {}
        },
        {
            "cell_type": "markdown",
            "source": "<p><img style=\"float: left; margin: 0px 15px 15px 0px;\" src=\"https://github.com/Microsoft/sqlworkshops/blob/master/graphics/thinking.jpg?raw=true\"><b>For Further Study</b></p>\n\n<br>\n<br>\n\n- Primary Documentation: [https://docs.microsoft.com/en-us/sql/advanced-analytics/r/sql-server-r-services?view=sql-server-2017](https://docs.microsoft.com/en-us/sql/advanced-analytics/r/sql-server-r-services?view=sql-server-2017)\n\n- https://microsoft.github.io/sql-ml-tutorials/R/customerclustering/",
            "metadata": {}
        },
        {
            "cell_type": "markdown",
            "source": "<p><img style=\"float: left; margin: 0px 15px 15px 0px;\" src=\"https://github.com/Microsoft/sqlworkshops/blob/master/graphics/education1.png?raw=true\"><b>Next</b>: Project Methodology and Data Science</p>\r\n\r\nNext, you'll learn more about setting up your project structure and working with Data Science. Open that Notebook to continue.\r\n",
            "metadata": {}
        }
    ]
}