{
    "metadata": {
        "kernelspec": {
            "name": "SQL",
            "display_name": "SQL",
            "language": "sql"
        },
        "language_info": {
            "name": "sql",
            "version": ""
        }
    },
    "nbformat_minor": 2,
    "nbformat": 4,
    "cells": [
        {
            "cell_type": "markdown",
            "source": "<img src=\"https://github.com/Microsoft/sqlworkshops/blob/master/graphics/solutions-microsoft-logo-small.png?raw=true\" alt=\"Microsoft\">\r\n<br>\r\n\r\n# Workshop: Microsoft SQL Server Machine Learning Services\r\n\r\n#### <i>A Microsoft Course from the SQL Server team</i>\r\n\r\n## 03 - Phase 1: Business Understanding\r\n",
            "metadata": {}
        },
        {
            "cell_type": "markdown",
            "source": "<p><img style=\"float: left; margin: 0px 15px 15px 0px;\" src=\"https://github.com/Microsoft/sqlworkshops/blob/master/graphics/textbubble.png?raw=true\"></p>\r\n\r\n<br>\r\n<br>\r\n<br>\r\n\r\nYou're learning to use the Team Data Science Process to create a complete solution, using SQL Server as the platform. The phases in the Team Data Science process are:\r\n\r\n<dl>\r\n  <dt>1 - Business Understanding <i>(This module)</i></dt>\r\n  <dt>2 - Data Acquisition and Understanding</dt>\r\n  <dt>3 - Modeling</dt>\r\n  <dt>4 - Deployment</dt>\r\n  <dt>5 - Customer Acceptance and Model Retraining</dt>\r\n<dl>\r\n\r\nNow that the Project is underway (the *Implementation* Project phase), you'll follow the Data Science Process for teams, and implement each step in an actual implementation. You'll begin with a deeper discovery session for determining the best model type and hyperparameters you need for the prediction.\r\n\r\nDuring the *Discovery*, *Envisioning* and *ADS* phases the customer explained the type of answer they were looking for. In this case, the answer involves a *Prediction*, and that means you need to create and train a Machine Learning Model that will use current data for training, so that it can make predictions over data it has not seen. The Project phases are less specific than you need for a Data Science project, since it's important to get the data (features and labels) the process needs. That's what the Business Understanding phase does.\r\n\r\nIn the *Business Understanding* step of the Team Data Science Process the Data Science team determines the prediction or categorical work your organization wants to create. You'll also set up your project planning documents, locate your initial data source locations, and set up the environment you will use to create and operationalize your models. This phase involves a great deal of coordination among the team and the broader organization.\r\n\r\n<p style=\"border-bottom: 1px solid lightgrey;\"></p>\r\n\r\n### Goals for Business Understanding\r\n\r\n- Specify the key variables that are to serve as the model targets and whose related metrics are used determine the success of the project.\r\n- Identify the relevant data sources that the business has access to or needs to obtain.\r\n \r\n<p style=\"border-bottom: 1px solid lightgrey;\"></p>\r\n\r\n### How to do it (There are two main tasks addressed in this stage)\r\n\r\n- Define objectives: Work with your customer and other stakeholders to understand and identify the business problems. Formulate questions that define the business goals that the data science techniques can target.\r\n- Identify data sources: Find the relevant data that helps you answer the questions that define the objectives of the project.\r\n\r\n\r\n",
            "metadata": {}
        },
        {
            "cell_type": "markdown",
            "source": "<p><img style=\"float: left; margin: 0px 15px 15px 0px;\" src=\"https://github.com/Microsoft/sqlworkshops/blob/master/graphics/pin.jpg?raw=true\"><b>2.1 Setting up the Data Science Project</b></p>\r\n\r\nBegin by assembling your team. It should include a Data Scientist, a Data Engineer (data professional with Data Science team experience), a business or organizational representative, and the owner of the project. If the project is going to go forward, set up a schedule for the work that follows.\r\n\r\n",
            "metadata": {}
        },
        {
            "cell_type": "markdown",
            "source": "<p><img style=\"float: left; margin: 0px 15px 15px 0px;\" src=\"https://github.com/Microsoft/sqlworkshops/blob/master/graphics/pin.jpg?raw=true\"><b>2.2 Find the Question</b></p>\r\n\r\nRemember that not every question can be answered by Machine Learning. Some questions can be solved with simple Linear Regression, Business Intelligence, or even a query in a report. Check the last module for the types of scenarios where Machine Learning works well.\r\n\r\nIn this case, the Contoso organization has presented the following scenario:\r\n\r\n<i>\r\nContoso Manufacturing creates and repairs components for highly varied solutions. We wish to create a Predictive Maintenance solution whereby we can do maintenance on our manufacturing systems efficiently.\r\n\r\nWe want to use a larger system to but train a predictive model at a remote location, since this will only be done periodically and we don't want to incur CapEx costs for the effort.\r\n\r\nBecause the training will be done remotely, it's important to ensure data security in the training. We can't let production data with system identifiers off site. (Identifiers are all we really care about, the rest of the data can be traditionally secured)\r\n\r\nCurrently, all manufacturing systems record data into a SQL Server Instance.\r\n\r\nIdeally, the model created would be used in the testing phase of manufacturing for quality control, and also be deployable to an IoT device as an add-on service for the equipment once created.\r\n</i></p>\r\n\r\n",
            "metadata": {}
        },
        {
            "cell_type": "markdown",
            "source": "<p><img style=\"float: left; margin: 0px 15px 15px 0px;\" src=\"https://github.com/Microsoft/sqlworkshops/blob/master/graphics/checkbox.png?raw=true\"><b>Activity: Defining the Business Problem</b></p>\r\n\r\n- Open the `ML Services for SQL Server/assets/Project` folder and review the project documents you see there.\r\n- What question does Contoso want answered? Which document does that go into? Open that document and ensure it's accurate.\r\n- Is this a prediction, a classification, or a clustering exercise? Or just reporting? Who can answer that question? Which document does that go into? Open that document and ensure it's accurate.\r\n- What are the specific requirements and constraints? Which document does that go into? Open that document and ensure it's accurate.\r\n\r\n",
            "metadata": {}
        },
        {
            "cell_type": "markdown",
            "source": "<p><img style=\"float: left; margin: 0px 15px 15px 0px;\" src=\"https://github.com/Microsoft/sqlworkshops/blob/master/graphics/pin.jpg?raw=true\"<b>2.3 Document the Data Sources</b></p>\r\n\r\nGetting an accurate prediction involves having solid training data that is as predictive as possible. In most cases, this involves a preliminary investigation by the Data Scientist to determine the Features and Labels that would best fit a prediction or classification. This data may be on hand already, or you may need to acquire it. In some cases, the data does not exist that would create a good model, and in that case a set of proxy data may be used, or the collection of that data started and the project delayed until a representative dataset is available.\r\n\r\nIn the case of this course, the data is wholly contained within the sample database, and a generated data set for training we will use. However, you might think about other data sources that could be useful.\r\n\r\n",
            "metadata": {}
        },
        {
            "cell_type": "markdown",
            "source": "<p><img style=\"float: left; margin: 0px 15px 15px 0px;\" src=\"https://github.com/Microsoft/sqlworkshops/blob/master/graphics/checkbox.png?raw=true\"><b>Activity: Restore the Database</b></p>\r\n\r\n- The dataset used in this course is hosted in a few SQL Server tables.The tables contain data from various systems on-premises over a period of time. The backup (.bak) file is in the `ML Services for SQL Server/data`  directory from wherever you downloaded the course - it's a file called `ContosoEngineering.bak`. Copy that file to a location that SQL Server can access: `C:\\Program Files\\Microsoft SQL Server\\MSSQL14.MSSQLSERVER\\MSSQL\\Backup`.\r\n\r\n- Open Visual Studio Code, and then open the course file `ML Services for SQL Server/code/SQL Scripts for hybrid ML Course.sql`.\r\n\r\n- Press F1 and type `sql connect` to connect to your SQL Server Instance. <a href=\"https://docs.microsoft.com/en-us/sql/linux/sql-server-linux-develop-use-vscode?view=sql-server-2017\" target=_blank>(More on how to do that here)</a>:\r\n\r\n- Find the section in the file marked `/* Activity: Restore the Database */`, and run the code (highlight and press CTRL-SHIFT-E) from that location until `/* End Activity: Restore the Database */`. Follow any instructions you see there.\r\n\r\nYou should see rows of data returned. You'll explore those further in the next module.\r\n\r\n",
            "metadata": {}
        },
        {
            "cell_type": "markdown",
            "source": "<p><img style=\"float: left; margin: 0px 15px 15px 0px;\" src=\"https://github.com/Microsoft/sqlworkshops/blob/master/graphics/pin.jpg?raw=true\"><b>2.4 Document the Data Sources</b></p>\r\n\r\nOne of the primary challenges in this solution is that the production data - which the customer has defined as \"with identifiers\" - cannot leave the SQL Server system. Of primary importance is the choices for the security of the data. In the *ADS Decision Matrix* Excel spreadsheet, the choices inferred by the team are:\r\n\r\n- Use sample data from the machine's manufacturer\r\n- Create a program that simulates the machine's behavior\r\n- Statistically anonymize the data\r\n\r\nIn the next Module, you will explore these options further. First, you will need to restore the database that exists in the customer's on-premises location.\r\n\r\n",
            "metadata": {}
        },
        {
            "cell_type": "markdown",
            "source": "<p><img style=\"float: left; margin: 0px 15px 15px 0px;\" src=\"https://github.com/Microsoft/sqlworkshops/blob/master/graphics/checkbox.png?raw=true\"><b>Activity: Review Project Documents, Determine specific Questions, Document the Data Source</b></p>\r\n\r\n- Open the `ML Services for SQL Server/assets/Project` folder and review the documents you see there.\r\n- Open the **Decision Matrix** Excel Spreadsheet you see there and look through the choices. How do the requirements and constraints impact the technical decisions? *For now, assume these are the correct choices*.\r\n- Examine/Fill out (as time permits) the project Charter Document: `ML Services for SQL Server/assets/Charter.md`\r\n- Examine/Identify (as time permits) Data Sources: `ML Services for SQL Server/assets/DataDefintion.md`\r\n- Examine/Create (as time permits) a Data Dictionary: `ML Services for SQL Server/assets/DataDictionary.md` Is there a way to create a Data Dictionary quickly using only T-SQL statements? Are there reports you could use?\r\n- Are there specific data elements that would be predictive or at least corollary for Predictive Maintenance in the data sample?\r\n",
            "metadata": {}
        },
        {
            "cell_type": "markdown",
            "source": "<p><img style=\"float: left; margin: 0px 15px 15px 0px;\" src=\"https://github.com/Microsoft/sqlworkshops/blob/master/graphics/thinking.jpg?raw=true\"><b>For Further Study</b></p>\r\n\r\n<br>\r\n\r\n- Business Understanding Reference:  https://docs.microsoft.com/en-us/azure/machine-learning/team-data-science-process/lifecycle-business-understanding\r\n\r\n- See https://www.georgetownlawtechreview.org/re-identification-of-anonymized-data/GLTR-04-2017/ for a discussion on statistical obfuscation dangers and methods\r\n\r\n",
            "metadata": {}
        },
        {
            "cell_type": "markdown",
            "source": "<p><img style=\"float: left; margin: 0px 15px 15px 0px;\" src=\"https://github.com/Microsoft/sqlworkshops/blob/master/graphics/education1.png?raw=true\"><b>Next</b>: Phase 2 - Data Acquisition and Understanding</p>\r\n\r\nNext, you'll start working through the Team Data Science Process with the first phase - Business Uunderstanding. Open that Notebook to continue.\r\n\r\nNext, you'll continue following the Team Data Science Process with the next phase - Data Acquisition and Understanding. Open that Notebook to continue.\r\n",
            "metadata": {}
        }
    ]
}