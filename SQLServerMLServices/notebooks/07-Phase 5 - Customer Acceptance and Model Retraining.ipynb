{
    "metadata": {
        "kernelspec": {
            "name": "SQL",
            "display_name": "SQL",
            "language": "sql"
        },
        "language_info": {
            "name": "sql",
            "version": ""
        }
    },
    "nbformat_minor": 2,
    "nbformat": 4,
    "cells": [
        {
            "cell_type": "markdown",
            "source": "<img src=\"https://github.com/Microsoft/sqlworkshops/blob/master/graphics/solutions-microsoft-logo-small.png?raw=true\" alt=\"Microsoft\">\r\n<br>\r\n\r\n# Workshop: Microsoft SQL Server Machine Learning Services\r\n\r\n#### <i>A Microsoft Course from the SQL Server team</i>\r\n\r\n## 07 - Phase 6: Customer Acceptance and Model Retraining \r\n\r\n<p style=\"border-bottom: 1px solid lightgrey;\"></p>",
            "metadata": {}
        },
        {
            "cell_type": "markdown",
            "source": "<p><img style=\"float: left; margin: 0px 15px 15px 0px;\" src=\"https://github.com/Microsoft/sqlworkshops/blob/master/graphics/textbubble.png?raw=true\"></p>\r\n\r\n<br>\r\n<br>\r\n<br>\r\n\r\nYou're learning to use the Team Data Science Process to create a complete solution, using SQL Server as the platform. The phases in the Team Data Science process are:\r\n\r\n<dl>\r\n  <dt>1 - Business Understanding</dt>\r\n  <dt>2 - Data Acquisition and Understanding</dt>\r\n  <dt>3 - Modeling</i></dt>\r\n  <dt>4 - Deployment <i>(This module)</dt>\r\n  <dt>5 - Customer Acceptance and Model Retraining</dt>\r\n<dl>\r\n\r\n<p style=\"border-bottom: 1px solid lightgrey;\"></p>\r\n\r\n<img style=\"float: left; margin: 0px 15px 15px 0px;\" src=\"https://github.com/Microsoft/sqlworkshops/blob/master/graphics/pin.jpg?raw=true\">\r\n\r\n<br>\r\n\r\nThe final phase of the Team Data Science Process involves testing the model predictions on real-world queries to ensure that it meets all requirements. In this phase you will also document the project so that all parameters are well-known. Finally, a mechanism is evaluated to re-train the model. You will not cover the retraining portion of the process in this course.\r\n\r\n### Goals for Customer Acceptance\r\n\r\n- Confirm that the pipeline, the model, and their deployment in a production environment satisfy the customer's objectives\r\n- Create a project close out document\r\n- Create a path for retraining your model\r\n\r\n### How to do it\r\n\r\n- System validation: Confirm that the deployed model and pipeline meet the customer's needs.\r\n- Project hand-off: Hand the project off to the entity that's going to run the system in production\r\n- Develop a \"ground truth\" mechanism and feed the new labels (if applicable) back into the retraining API\r\n",
            "metadata": {}
        },
        {
            "cell_type": "markdown",
            "source": "<p><img style=\"float: left; margin: 0px 15px 15px 0px;\" src=\"https://github.com/Microsoft/sqlworkshops/blob/master/graphics/pin.jpg?raw=true\"><b>6.1 Test the predictions with a Stored Procedure</b></p>\r\n\r\nUsing the binary Model you created, you can now allow users to make calls to the system for predictions. In the code that the application runs, you need to send along the Features the model expects, and accept the returned value(s) as the prediction. Alternately, you could store the results in a table or other SQL Server object.\r\n",
            "metadata": {}
        },
        {
            "cell_type": "markdown",
            "source": "<p><img style=\"float: left; margin: 0px 15px 15px 0px;\" src=\"https://github.com/Microsoft/sqlworkshops/blob/master/graphics/checkbox.png?raw=true\"></p>\r\n\r\n<br>\r\n\r\n- Connect to SQL Server with a different SQL query tool, and run the following code that sends the data in the FeaturesAndLabels table:\r\n\r\n<pre>\r\nEXEC predict_failures 'pdm_model';\r\nGO\r\n</pre>\r\n\r\nYou'll get back a prediction showing how many failures are expected.\r\n",
            "metadata": {}
        },
        {
            "cell_type": "markdown",
            "source": "<p><img style=\"float: left; margin: 0px 15px 15px 0px;\" src=\"https://github.com/Microsoft/sqlworkshops/blob/master/graphics/pin.jpg?raw=true\"><b>6.2 Close out the Project</b></p>\r\n\r\nTo complete the project, document the steps, findings, and results. In the activity that follows, you'll find a complete document reference for this process.",
            "metadata": {}
        },
        {
            "cell_type": "markdown",
            "source": "<p><img style=\"float: left; margin: 0px 15px 15px 0px;\" src=\"https://github.com/Microsoft/sqlworkshops/blob/master/graphics/checkbox.png?raw=true\"><b>Activity: Create a Project Closeout Document</b></p>\r\n\r\n- Open the `./assets/project/ProjectCloseout.md` file and fill in the fields from your project.\r\n",
            "metadata": {}
        },
        {
            "cell_type": "markdown",
            "source": "<p><img style=\"float: left; margin: 0px 15px 15px 0px;\" src=\"https://github.com/Microsoft/sqlworkshops/blob/master/graphics/thinking.jpg?raw=true\"><b>For Further Study</b></p>\r\n\r\n<br>\r\n<br>\r\n\r\n - [Learn more about closing out a Data Science project here](https://docs.microsoft.com/en-us/azure/machine-learning/team-data-science-process/lifecycle-acceptance)\r\n",
            "metadata": {}
        },
        {
            "cell_type": "markdown",
            "source": "<p><img style=\"float: left; margin: 0px 15px 15px 0px;\" src=\"https://github.com/Microsoft/sqlworkshops/blob/master/graphics/education1.png?raw=true\"><b>Course Completion</b></p>\r\n\r\nCongratulations! You have completed this course on SQL SErver Machine Learning Services. You now have the tools, assets, and processes you need to extrapolate this information into other applications.",
            "metadata": {}
        }
    ]
}