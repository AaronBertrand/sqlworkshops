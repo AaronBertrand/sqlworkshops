{
    "metadata": {
        "kernelspec": {
            "name": "SQL",
            "display_name": "SQL",
            "language": "sql"
        },
        "language_info": {
            "name": "sql",
            "version": ""
        }
    },
    "nbformat_minor": 2,
    "nbformat": 4,
    "cells": [
        {
            "cell_type": "markdown",
            "source": "<img src=\"https://github.com/Microsoft/sqlworkshops/blob/master/graphics/solutions-microsoft-logo-small.png?raw=true\" alt=\"Microsoft\">\r\n<br>\r\n\r\n# SQL Server 2019 big data cluster Tutorial\r\n## 03 - Creating and Querying a Data Mart\r\n\r\nIn this tutorial you will learn how to create and query a Data Mart using Virtualized Data in a SQL Server big data cluster. \r\n\r\n**TODO:** Complete Tutorial ",
            "metadata": {}
        },
        {
            "cell_type": "code",
            "source": "USE WideWorldImporters;\r\nGO\r\n\r\nIF NOT EXISTS(SELECT * FROM sys.external_data_sources WHERE name = 'SqlDataPool')\r\n  CREATE EXTERNAL DATA SOURCE SqlDataPool\r\n  WITH (LOCATION = 'sqldatapool://service-mssql-controller:8080/datapools/default');",
            "metadata": {},
            "outputs": [
                {
                    "output_type": "display_data",
                    "data": {
                        "text/html": "Commands completed successfully."
                    },
                    "metadata": {}
                },
                {
                    "output_type": "display_data",
                    "data": {
                        "text/html": "Total execution time: 00:00:00.0014288"
                    },
                    "metadata": {}
                },
                {
                    "output_type": "display_data",
                    "data": {
                        "text/html": "Commands completed successfully."
                    },
                    "metadata": {}
                },
                {
                    "output_type": "display_data",
                    "data": {
                        "text/html": "Total execution time: 00:00:00.6209978"
                    },
                    "metadata": {}
                }
            ],
            "execution_count": 8
        },
        {
            "cell_type": "code",
            "source": "CREATE EXTERNAL TABLE [web_clickstream_clicks_data_pool]\r\n    (\"wcs_click_date_sk\" BIGINT \r\n    , \"wcs_click_time_sk\" BIGINT \r\n    , \"wcs_sales_sk\" BIGINT \r\n    , \"wcs_item_sk\" BIGINT\r\n    , \"wcs_web_page_sk\" BIGINT \r\n    , \"wcs_user_sk\" BIGINT)\r\n    WITH\r\n    (\r\n    DATA_SOURCE = SqlDataPool,\r\n    DISTRIBUTION = ROUND_ROBIN\r\n    );\r\nGO",
            "metadata": {},
            "outputs": [
                {
                    "output_type": "display_data",
                    "data": {
                        "text/html": "Commands completed successfully."
                    },
                    "metadata": {}
                },
                {
                    "output_type": "display_data",
                    "data": {
                        "text/html": "Total execution time: 00:00:00.9618554"
                    },
                    "metadata": {}
                }
            ],
            "execution_count": 9
        },
        {
            "cell_type": "code",
            "source": "/* Create an External Table that can read from the Storage Pool File Location */\r\nIF NOT EXISTS(SELECT * FROM sys.external_tables WHERE name = 'web_clickstreams_hdfs')\r\nBEGIN\r\n    CREATE EXTERNAL TABLE [web_clickstreams_hdfs]\r\n    (\"wcs_click_date_sk\" BIGINT \r\n    , \"wcs_click_time_sk\" BIGINT \r\n    , \"wcs_sales_sk\" BIGINT \r\n    , \"wcs_item_sk\" BIGINT\r\n    , \"wcs_web_page_sk\" BIGINT \r\n    , \"wcs_user_sk\" BIGINT)\r\n    WITH\r\n    (\r\n        DATA_SOURCE = SqlStoragePool,\r\n        LOCATION = '/web_logs',\r\n        FILE_FORMAT = csv_file\r\n    );\r\nEND",
            "metadata": {},
            "outputs": [
                {
                    "output_type": "display_data",
                    "data": {
                        "text/html": "Commands completed successfully."
                    },
                    "metadata": {}
                },
                {
                    "output_type": "display_data",
                    "data": {
                        "text/html": "Total execution time: 00:00:00.0011489"
                    },
                    "metadata": {}
                }
            ],
            "execution_count": 10
        },
        {
            "cell_type": "code",
            "source": "BEGIN\r\n   INSERT INTO web_clickstream_clicks_data_pool\r\n   SELECT wcs_click_date_sk\r\n    , wcs_click_time_sk \r\n    , wcs_sales_sk \r\n    , wcs_item_sk \r\n    , wcs_web_page_sk  \r\n    , wcs_user_sk \r\n     FROM web_clickstreams_hdfs\r\nEND",
            "metadata": {},
            "outputs": [
                {
                    "output_type": "display_data",
                    "data": {
                        "text/html": "(6770549 rows affected)"
                    },
                    "metadata": {}
                },
                {
                    "output_type": "display_data",
                    "data": {
                        "text/html": "Total execution time: 00:01:35.0381191"
                    },
                    "metadata": {}
                }
            ],
            "execution_count": 12
        },
        {
            "cell_type": "code",
            "source": "SELECT count(*) FROM [dbo].[web_clickstream_clicks_data_pool]\r\nSELECT TOP 10 * FROM [dbo].[web_clickstream_clicks_data_pool]",
            "metadata": {},
            "outputs": [
                {
                    "output_type": "display_data",
                    "data": {
                        "text/html": "(1 row affected)"
                    },
                    "metadata": {}
                },
                {
                    "output_type": "display_data",
                    "data": {
                        "text/html": "(10 rows affected)"
                    },
                    "metadata": {}
                },
                {
                    "output_type": "display_data",
                    "data": {
                        "text/html": "Total execution time: 00:00:09.2888920"
                    },
                    "metadata": {}
                },
                {
                    "output_type": "execute_result",
                    "metadata": {},
                    "execution_count": 13,
                    "data": {
                        "application/vnd.dataresource+json": {
                            "schema": {
                                "fields": [
                                    {
                                        "name": "(No column name)"
                                    }
                                ]
                            },
                            "data": [
                                {
                                    "0": "6770549"
                                }
                            ]
                        },
                        "text/html": "<table><tr><th>(No column name)</th></tr><tr><td>6770549</td></tr></table>"
                    }
                },
                {
                    "output_type": "execute_result",
                    "metadata": {},
                    "execution_count": 13,
                    "data": {
                        "application/vnd.dataresource+json": {
                            "schema": {
                                "fields": [
                                    {
                                        "name": "wcs_click_date_sk"
                                    },
                                    {
                                        "name": "wcs_click_time_sk"
                                    },
                                    {
                                        "name": "wcs_sales_sk"
                                    },
                                    {
                                        "name": "wcs_item_sk"
                                    },
                                    {
                                        "name": "wcs_web_page_sk"
                                    },
                                    {
                                        "name": "wcs_user_sk"
                                    }
                                ]
                            },
                            "data": [
                                {
                                    "0": "37735",
                                    "1": "67197",
                                    "2": "NULL",
                                    "3": "8769",
                                    "4": "53",
                                    "5": "NULL"
                                },
                                {
                                    "0": "37735",
                                    "1": "66368",
                                    "2": "NULL",
                                    "3": "4710",
                                    "4": "53",
                                    "5": "NULL"
                                },
                                {
                                    "0": "37735",
                                    "1": "29134",
                                    "2": "NULL",
                                    "3": "2568",
                                    "4": "53",
                                    "5": "NULL"
                                },
                                {
                                    "0": "37736",
                                    "1": "62336",
                                    "2": "NULL",
                                    "3": "11924",
                                    "4": "53",
                                    "5": "NULL"
                                },
                                {
                                    "0": "37736",
                                    "1": "61470",
                                    "2": "NULL",
                                    "3": "3914",
                                    "4": "53",
                                    "5": "NULL"
                                },
                                {
                                    "0": "37736",
                                    "1": "6060",
                                    "2": "NULL",
                                    "3": "16280",
                                    "4": "53",
                                    "5": "NULL"
                                },
                                {
                                    "0": "37736",
                                    "1": "32023",
                                    "2": "NULL",
                                    "3": "12267",
                                    "4": "53",
                                    "5": "NULL"
                                },
                                {
                                    "0": "37736",
                                    "1": "49579",
                                    "2": "NULL",
                                    "3": "15327",
                                    "4": "53",
                                    "5": "NULL"
                                },
                                {
                                    "0": "37736",
                                    "1": "56435",
                                    "2": "NULL",
                                    "3": "15305",
                                    "4": "53",
                                    "5": "NULL"
                                },
                                {
                                    "0": "37736",
                                    "1": "7883",
                                    "2": "NULL",
                                    "3": "4853",
                                    "4": "53",
                                    "5": "NULL"
                                }
                            ]
                        },
                        "text/html": "<table><tr><th>wcs_click_date_sk</th><th>wcs_click_time_sk</th><th>wcs_sales_sk</th><th>wcs_item_sk</th><th>wcs_web_page_sk</th><th>wcs_user_sk</th></tr><tr><td>37735</td><td>67197</td><td>NULL</td><td>8769</td><td>53</td><td>NULL</td></tr><tr><td>37735</td><td>66368</td><td>NULL</td><td>4710</td><td>53</td><td>NULL</td></tr><tr><td>37735</td><td>29134</td><td>NULL</td><td>2568</td><td>53</td><td>NULL</td></tr><tr><td>37736</td><td>62336</td><td>NULL</td><td>11924</td><td>53</td><td>NULL</td></tr><tr><td>37736</td><td>61470</td><td>NULL</td><td>3914</td><td>53</td><td>NULL</td></tr><tr><td>37736</td><td>6060</td><td>NULL</td><td>16280</td><td>53</td><td>NULL</td></tr><tr><td>37736</td><td>32023</td><td>NULL</td><td>12267</td><td>53</td><td>NULL</td></tr><tr><td>37736</td><td>49579</td><td>NULL</td><td>15327</td><td>53</td><td>NULL</td></tr><tr><td>37736</td><td>56435</td><td>NULL</td><td>15305</td><td>53</td><td>NULL</td></tr><tr><td>37736</td><td>7883</td><td>NULL</td><td>4853</td><td>53</td><td>NULL</td></tr></table>"
                    }
                }
            ],
            "execution_count": 13
        },
        {
            "cell_type": "markdown",
            "source": "## Next Steps: Continue on to Working with Spark and ETL\r\n\r\nNow you're ready to open the next Python Notebook - `bdc_tutorial_04.ipynb` - to learn how to create and work with Spark and Extracting, Transforming and Loading data.",
            "metadata": {}
        }
    ]
}