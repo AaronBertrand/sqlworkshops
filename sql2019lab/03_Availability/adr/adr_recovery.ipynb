{
    "metadata": {
        "kernelspec": {
            "name": "SQL",
            "display_name": "SQL",
            "language": "sql"
        },
        "language_info": {
            "name": "sql",
            "version": ""
        }
    },
    "nbformat_minor": 2,
    "nbformat": 4,
    "cells": [
        {
            "cell_type": "markdown",
            "source": "# Accelerated Database Recovery - Speed up Recovery\r\nIn this example you will learn how Accelerated Database Recovery will speed up recovery\r\n\r\n",
            "metadata": {}
        },
        {
            "cell_type": "markdown",
            "source": "## Step 1: Setup the database\r\nCreate a database larger enough to hold data and tlog without autogrow.\r\n\r\nDepending on the speed of your server, creating the database and data could take several minutes.\r\n\r\n**Note**: *For Linux installations the default path to use is /var/opt/mssql*",
            "metadata": {}
        },
        {
            "cell_type": "code",
            "source": "USE master\r\nGO\r\nDROP DATABASE IF EXISTS gocowboys\r\nGO\r\nCREATE DATABASE gocowboys\r\nON PRIMARY\r\n(NAME = N'gocowboys_primary', FILENAME = 'C:\\Program Files\\Microsoft SQL Server\\MSSQL15.MSSQLSERVER\\MSSQL\\DATA\\gocowboys.mdf', SIZE = 10Gb , MAXSIZE = UNLIMITED, FILEGROWTH = 65536KB)\r\nLOG ON \r\n(NAME = N'gocowboys_log', FILENAME = 'C:\\Program Files\\Microsoft SQL Server\\MSSQL15.MSSQLSERVER\\MSSQL\\DATA\\gocowboys_log.ldf', SIZE = 40Gb , MAXSIZE = UNLIMITED , FILEGROWTH = 65536KB)\r\nGO\r\nALTER DATABASE gocowboys SET RECOVERY SIMPLE\r\nGO",
            "metadata": {},
            "outputs": [
                {
                    "output_type": "display_data",
                    "data": {
                        "text/html": "Commands completed successfully."
                    },
                    "metadata": {}
                },
                {
                    "output_type": "display_data",
                    "data": {
                        "text/html": "Commands completed successfully."
                    },
                    "metadata": {}
                },
                {
                    "output_type": "display_data",
                    "data": {
                        "text/html": "Commands completed successfully."
                    },
                    "metadata": {}
                },
                {
                    "output_type": "display_data",
                    "data": {
                        "text/html": "Commands completed successfully."
                    },
                    "metadata": {}
                },
                {
                    "output_type": "display_data",
                    "data": {
                        "text/html": "Total execution time: 00:00:58.577"
                    },
                    "metadata": {}
                }
            ],
            "execution_count": 1
        },
        {
            "cell_type": "markdown",
            "source": "## Step 2: Create the table\r\nCreate a table with a million rows so that when we delete them all recovery will take a long time",
            "metadata": {}
        },
        {
            "cell_type": "code",
            "source": "USE gocowboys\r\nGO\r\nDROP TABLE IF EXISTS howboutthemcowboys\r\nGO\r\nCREATE TABLE howboutthemcowboys (playerid int primary key clustered, playername char(7000) not null)\r\nGO\r\nSET NOCOUNT ON\r\nGO\r\nBEGIN TRAN\r\nDECLARE @x int\r\nSET @x = 0\r\nWHILE (@x < 1000000)\r\nBEGIN\r\n\tINSERT INTO howboutthemcowboys VALUES (@x, 'Jason Whitten returns in 2019')\r\n\tSET @x = @x + 1\r\nEND\r\nCOMMIT TRAN\r\nGO\r\nSET NOCOUNT OFF\r\nGO\r\nUSE master\r\nGO",
            "metadata": {},
            "outputs": [
                {
                    "output_type": "display_data",
                    "data": {
                        "text/html": "Commands completed successfully."
                    },
                    "metadata": {}
                },
                {
                    "output_type": "display_data",
                    "data": {
                        "text/html": "Commands completed successfully."
                    },
                    "metadata": {}
                },
                {
                    "output_type": "display_data",
                    "data": {
                        "text/html": "Commands completed successfully."
                    },
                    "metadata": {}
                },
                {
                    "output_type": "display_data",
                    "data": {
                        "text/html": "Commands completed successfully."
                    },
                    "metadata": {}
                },
                {
                    "output_type": "display_data",
                    "data": {
                        "text/html": "Commands completed successfully."
                    },
                    "metadata": {}
                },
                {
                    "output_type": "display_data",
                    "data": {
                        "text/html": "Commands completed successfully."
                    },
                    "metadata": {}
                },
                {
                    "output_type": "display_data",
                    "data": {
                        "text/html": "Commands completed successfully."
                    },
                    "metadata": {}
                },
                {
                    "output_type": "display_data",
                    "data": {
                        "text/html": "Total execution time: 00:01:01.126"
                    },
                    "metadata": {}
                }
            ],
            "execution_count": 2
        },
        {
            "cell_type": "markdown",
            "source": "## Step 3: Delete all the rows in the table\r\nDelete all the rows in the table in a user defined transaction",
            "metadata": {}
        },
        {
            "cell_type": "code",
            "source": "USE master\r\nGO\r\nALTER DATABASE gocowboys SET ACCELERATED_DATABASE_RECOVERY = OFF\r\nGO\r\n-- Try to delete a bunch of rows\r\nUSE gocowboys\r\nGO\r\nBEGIN TRAN\r\nDELETE from howboutthemcowboys\r\nGO",
            "metadata": {},
            "outputs": [
                {
                    "output_type": "display_data",
                    "data": {
                        "text/html": "Commands completed successfully."
                    },
                    "metadata": {}
                },
                {
                    "output_type": "display_data",
                    "data": {
                        "text/html": "Commands completed successfully."
                    },
                    "metadata": {}
                },
                {
                    "output_type": "display_data",
                    "data": {
                        "text/html": "Commands completed successfully."
                    },
                    "metadata": {}
                },
                {
                    "output_type": "display_data",
                    "data": {
                        "text/html": "(1000000 rows affected)"
                    },
                    "metadata": {}
                },
                {
                    "output_type": "display_data",
                    "data": {
                        "text/html": "Total execution time: 00:01:15.761"
                    },
                    "metadata": {}
                }
            ],
            "execution_count": 3
        },
        {
            "cell_type": "markdown",
            "source": "## Step 4: Checkpoint the database, shutdown SQL Server WITH NOWAIT, and restart it\r\nCheckpoint will flush any dirty pages but the transaction is not committed. Shutting down the server with NOWAIT will not attempt to roll back active transactions. Therefore, SQL Server has to run undo to rollback this transaction. \r\n\r\nSeparate from this notebook, use a New Query in Azure Data Studio and run the following commands as a sysadmin. \r\n\r\n**Restart SQL Server and then examine the ERRORLOG to see how long recovery takes for the database. SQL Server must fully recover the database before you go to the next step. Because there is so much to recover this could take 10 minutes or more**\r\n\r\n<pre>USE gocowboys\r\nGO\r\nCHECKPOINT\r\nGO\r\nSHUTDOWN WITH NOWAIT\r\nGO</pre>",
            "metadata": {}
        },
        {
            "cell_type": "markdown",
            "source": "## Step 5: Create the table again for a second test\r\nUse the same code as before to create the table with a million rows. But turn on Accelerated Database Recovery first.\r\n\r\nYou may first see a connection error first since you shutdown SQL Server in the previous step but the cell should retry the connection and run the T-SQL statements.",
            "metadata": {}
        },
        {
            "cell_type": "code",
            "source": "USE master\r\nGO\r\nALTER DATABASE gocowboys SET ACCELERATED_DATABASE_RECOVERY = ON\r\nGO\r\nUSE gocowboys\r\nGO\r\nDROP TABLE IF EXISTS howboutthemcowboys\r\nGO\r\nCREATE TABLE howboutthemcowboys (playerid int primary key clustered, playername char(7000) not null)\r\nGO\r\nSET NOCOUNT ON\r\nGO\r\nBEGIN TRAN\r\nDECLARE @x int\r\nSET @x = 0\r\nWHILE (@x < 1000000)\r\nBEGIN\r\n\tINSERT INTO howboutthemcowboys VALUES (@x, 'Jason Whitten returns in 2019')\r\n\tSET @x = @x + 1\r\nEND\r\nCOMMIT TRAN\r\nGO\r\nSET NOCOUNT OFF\r\nGO\r\nUSE master\r\nGO",
            "metadata": {},
            "outputs": [
                {
                    "output_type": "error",
                    "evalue": "Msg 0, Level 20, State 0, Line 0\r\nThe connection is broken and recovery is not possible.  The connection is marked by the server as unrecoverable.  No attempt was made to restore the connection.",
                    "ename": "",
                    "traceback": []
                },
                {
                    "output_type": "display_data",
                    "data": {
                        "text/html": "Commands completed successfully."
                    },
                    "metadata": {}
                },
                {
                    "output_type": "display_data",
                    "data": {
                        "text/html": "Commands completed successfully."
                    },
                    "metadata": {}
                },
                {
                    "output_type": "display_data",
                    "data": {
                        "text/html": "Commands completed successfully."
                    },
                    "metadata": {}
                },
                {
                    "output_type": "display_data",
                    "data": {
                        "text/html": "Commands completed successfully."
                    },
                    "metadata": {}
                },
                {
                    "output_type": "display_data",
                    "data": {
                        "text/html": "Commands completed successfully."
                    },
                    "metadata": {}
                },
                {
                    "output_type": "display_data",
                    "data": {
                        "text/html": "Commands completed successfully."
                    },
                    "metadata": {}
                },
                {
                    "output_type": "display_data",
                    "data": {
                        "text/html": "Commands completed successfully."
                    },
                    "metadata": {}
                },
                {
                    "output_type": "display_data",
                    "data": {
                        "text/html": "Commands completed successfully."
                    },
                    "metadata": {}
                },
                {
                    "output_type": "display_data",
                    "data": {
                        "text/html": "Total execution time: 00:01:14.070"
                    },
                    "metadata": {}
                }
            ],
            "execution_count": 4
        },
        {
            "cell_type": "markdown",
            "source": "## Step 6: Delete all the rows in the table in a transaction\r\nSame code as before to delete all rows and not commit or rollback the transaction",
            "metadata": {}
        },
        {
            "cell_type": "code",
            "source": "USE gocowboys\r\nGO\r\nBEGIN TRAN\r\nDELETE from howboutthemcowboys\r\nGO",
            "metadata": {},
            "outputs": [
                {
                    "output_type": "display_data",
                    "data": {
                        "text/html": "Commands completed successfully."
                    },
                    "metadata": {}
                },
                {
                    "output_type": "display_data",
                    "data": {
                        "text/html": "(1000000 rows affected)"
                    },
                    "metadata": {}
                },
                {
                    "output_type": "display_data",
                    "data": {
                        "text/html": "Total execution time: 00:00:25.405"
                    },
                    "metadata": {}
                }
            ],
            "execution_count": 5
        },
        {
            "cell_type": "markdown",
            "source": "## Step 7:  Checkpoint the database, shutdown SQL Server WITH NOWAIT, and restart it with Accelerated Database Recovery\r\nCheckpoint will flush any dirty pages but the transaction is not committed. Shutting down the server with NOWAIT will not attempt to roll back active transactions. Therefore, SQL Server has to run undo to rollback this transaction. \r\n\r\nSeparate from this notebook, use a New Query in Azure Data Studio and run the following commands as a sysadmin. Then restart SQL Server to examine the ERRORLOG to see how recovery takes for the database. You should see that recovery is significantly faster than before.\r\n\r\n<pre>USE gocowboys\r\nGO\r\nCHECKPOINT\r\nGO\r\nSHUTDOWN WITH NOWAIT\r\nGO</pre>",
            "metadata": {}
        }
    ]
}